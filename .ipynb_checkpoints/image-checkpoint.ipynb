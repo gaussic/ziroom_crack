{
 "cells": [
  {
   "cell_type": "code",
   "execution_count": 23,
   "metadata": {},
   "outputs": [],
   "source": [
    "from PIL import Image\n",
    "import random\n",
    "import matplotlib.pyplot as plt\n",
    "import numpy as np\n",
    "\n",
    "%matplotlib inline"
   ]
  },
  {
   "cell_type": "code",
   "execution_count": 142,
   "metadata": {},
   "outputs": [],
   "source": [
    "image = Image.open('images/9bbd4bf71c11e7c8149485d9f1ec5adbs.png').convert('L')"
   ]
  },
  {
   "cell_type": "code",
   "execution_count": 143,
   "metadata": {},
   "outputs": [
    {
     "data": {
      "image/png": "[encoded data removed]",
      "text/plain": [
       "<PIL.Image.Image image mode=L size=300x30 at 0x234962D8FD0>"
      ]
     },
     "execution_count": 143,
     "metadata": {},
     "output_type": "execute_result"
    }
   ],
   "source": [
    "image"
   ]
  },
  {
   "cell_type": "code",
   "execution_count": 182,
   "metadata": {},
   "outputs": [],
   "source": [
    "img_list = []\n",
    "for i in range(10):\n",
    "    img = image.crop((i * 30, 0, (i+1) * 30, 30))\n",
    "    img_list.append(img)"
   ]
  },
  {
   "cell_type": "code",
   "execution_count": 183,
   "metadata": {},
   "outputs": [
    {
     "data": {
      "image/png": "[encoded data removed]",
      "text/plain": [
       "<PIL.Image.Image image mode=L size=30x30 at 0x234962EF048>"
      ]
     },
     "execution_count": 183,
     "metadata": {},
     "output_type": "execute_result"
    }
   ],
   "source": [
    "random.choice(img_list)"
   ]
  },
  {
   "cell_type": "code",
   "execution_count": 176,
   "metadata": {},
   "outputs": [
    {
     "data": {
      "image/png": "[encoded data removed]",
      "text/plain": [
       "<PIL.Image.Image image mode=L size=30x30 at 0x234962DF748>"
      ]
     },
     "execution_count": 176,
     "metadata": {},
     "output_type": "execute_result"
    }
   ],
   "source": [
    "img = random.choice(img_list)\n",
    "img"
   ]
  },
  {
   "cell_type": "code",
   "execution_count": 186,
   "metadata": {},
   "outputs": [],
   "source": [
    "num_arr = np.zeros((10, 900))\n",
    "num_arr[0] = np.array(img_list[0]).flatten()\n",
    "num_arr[1] = np.array(img_list[1]).flatten()\n",
    "num_arr[2] = np.array(img_list[7]).flatten()\n",
    "num_arr[3] = np.array(img_list[5]).flatten()\n",
    "num_arr[4] = np.array(img_list[2]).flatten()\n",
    "num_arr[5] = np.array(img_list[9]).flatten()\n",
    "num_arr[6] = np.array(img_list[6]).flatten()\n",
    "num_arr[7] = np.array(img_list[8]).flatten()\n",
    "num_arr[8] = np.array(img_list[3]).flatten()\n",
    "num_arr[9] = np.array(img_list[4]).flatten()"
   ]
  },
  {
   "cell_type": "code",
   "execution_count": 192,
   "metadata": {},
   "outputs": [],
   "source": [
    "np.save('num_arr', num_arr)"
   ]
  },
  {
   "cell_type": "code",
   "execution_count": 193,
   "metadata": {},
   "outputs": [],
   "source": [
    "num_arr = np.load('num_arr.npy')"
   ]
  },
  {
   "cell_type": "code",
   "execution_count": 197,
   "metadata": {},
   "outputs": [
    {
     "data": {
      "image/png": "[encoded data removed]",
      "text/plain": [
       "<PIL.Image.Image image mode=L size=300x30 at 0x234962EF8D0>"
      ]
     },
     "execution_count": 197,
     "metadata": {},
     "output_type": "execute_result"
    }
   ],
   "source": [
    "image = Image.open('images/e72ac241b410eac63a652dc1349521fds.png').convert('L')\n",
    "image"
   ]
  },
  {
   "cell_type": "code",
   "execution_count": 198,
   "metadata": {},
   "outputs": [],
   "source": [
    "img_list = []\n",
    "for i in range(10):\n",
    "    img = image.crop((i * 30, 0, (i+1) * 30, 30))\n",
    "    img_list.append(img)"
   ]
  },
  {
   "cell_type": "code",
   "execution_count": 210,
   "metadata": {},
   "outputs": [
    {
     "data": {
      "image/png": "[encoded data removed]",
      "text/plain": [
       "<PIL.Image.Image image mode=L size=30x30 at 0x23495C68C88>"
      ]
     },
     "execution_count": 210,
     "metadata": {},
     "output_type": "execute_result"
    }
   ],
   "source": [
    "img = random.choice(img_list)\n",
    "img"
   ]
  },
  {
   "cell_type": "code",
   "execution_count": 211,
   "metadata": {},
   "outputs": [
    {
     "name": "stdout",
     "output_type": "stream",
     "text": [
      "[1501.399347275734, 2978.6406295489896, 2538.6413689215733, 1877.7113729218343, 2660.9208932247498, 1530.0, 0.0, 2844.644090215857, 1501.399347275734, 1923.3304448274093]\n",
      "6\n"
     ]
    }
   ],
   "source": [
    "img_arr = np.array(img).flatten()\n",
    "dist = [np.linalg.norm(img_arr-x) for x in num_arr]\n",
    "print(dist)\n",
    "print(np.argmin(dist))"
   ]
  },
  {
   "cell_type": "code",
   "execution_count": 218,
   "metadata": {},
   "outputs": [],
   "source": [
    "def get_digit(img_file, num_arr):\n",
    "    digit_list = []\n",
    "    image = Image.open(img_file).convert('L')\n",
    "    for i in range(10):\n",
    "        img = image.crop((i * 30, 0, (i+1) * 30, 30))\n",
    "        img_arr = np.array(img).flatten()\n",
    "        dist = [np.linalg.norm(img_arr-x) for x in num_arr]\n",
    "        digit_list.append(np.argmin(dist))\n",
    "    return digit_list"
   ]
  },
  {
   "cell_type": "code",
   "execution_count": 220,
   "metadata": {},
   "outputs": [
    {
     "data": {
      "text/plain": [
       "[4, 0, 1, 5, 9, 8, 3, 7, 6, 2]"
      ]
     },
     "execution_count": 220,
     "metadata": {},
     "output_type": "execute_result"
    }
   ],
   "source": [
    "get_digit(\"images/e72ac241b410eac63a652dc1349521fds.png\", num_arr)"
   ]
  },
  {
   "cell_type": "code",
   "execution_count": 221,
   "metadata": {},
   "outputs": [
    {
     "data": {
      "text/plain": [
       "array([  0,   0,   0,   0,   0,   0,   0,   0,   0,   0,   0,   0,   0,\n",
       "         0,   0,   0,   0,   0,   0,   0,   0,   0,   0,   0,   0,   0,\n",
       "         0,   0,   0,   0,   0,   0,   0,   0,   0,   0, 170, 170, 170,\n",
       "       170, 170, 170, 170, 170, 170,   0,   0,   0,   0,   0,   0,   0,\n",
       "         0,   0,   0,   0,   0,   0,   0,   0,   0,   0,   0,   0,   0,\n",
       "       170, 170, 170, 170, 170, 170, 170, 170, 170, 170, 170, 170,   0,\n",
       "         0,   0,   0,   0,   0,   0,   0,   0,   0,   0,   0,   0,   0,\n",
       "         0,   0,   0, 170, 170, 170, 170, 170, 170, 170, 170, 170, 170,\n",
       "       170, 170, 170,   0,   0,   0,   0,   0,   0,   0,   0,   0,   0,\n",
       "         0,   0,   0,   0,   0,   0, 170, 170, 170, 170, 170, 170,   0,\n",
       "         0,   0, 170, 170, 170, 170, 170, 170,   0,   0,   0,   0,   0,\n",
       "         0,   0,   0,   0,   0,   0,   0,   0,   0,   0, 170, 170, 170,\n",
       "       170, 170,   0,   0,   0,   0,   0, 170, 170, 170, 170, 170,   0,\n",
       "         0,   0,   0,   0,   0,   0,   0,   0,   0,   0,   0,   0,   0,\n",
       "       170, 170, 170, 170, 170,   0,   0,   0,   0,   0,   0,   0, 170,\n",
       "       170, 170, 170, 170,   0,   0,   0,   0,   0,   0,   0,   0,   0,\n",
       "         0,   0,   0,   0, 170, 170, 170, 170,   0,   0,   0,   0,   0,\n",
       "         0,   0,   0, 170, 170, 170, 170, 170,   0,   0,   0,   0,   0,\n",
       "         0,   0,   0,   0,   0,   0,   0,   0, 170, 170, 170, 170,   0,\n",
       "         0,   0,   0,   0,   0,   0,   0,   0,   0,   0,   0,   0,   0,\n",
       "         0,   0,   0,   0,   0,   0,   0,   0,   0,   0,   0, 170, 170,\n",
       "       170, 170, 170,   0,   0,   0,   0,   0,   0,   0,   0,   0,   0,\n",
       "         0,   0,   0,   0,   0,   0,   0,   0,   0,   0,   0,   0,   0,\n",
       "         0,   0, 170, 170, 170, 170,   0,   0, 170, 170, 170, 170, 170,\n",
       "       170, 170, 170,   0,   0,   0,   0,   0,   0,   0,   0,   0,   0,\n",
       "         0,   0,   0,   0,   0,   0, 170, 170, 170, 170, 170, 170, 170,\n",
       "       170, 170, 170, 170, 170, 170, 170, 170,   0,   0,   0,   0,   0,\n",
       "         0,   0,   0,   0,   0,   0,   0,   0,   0,   0, 170, 170, 170,\n",
       "       170, 170, 170, 170, 170, 170, 170, 170, 170, 170, 170, 170, 170,\n",
       "         0,   0,   0,   0,   0,   0,   0,   0,   0,   0,   0,   0,   0,\n",
       "         0, 170, 170, 170, 170, 170, 170, 170, 170,   0,   0,   0, 170,\n",
       "       170, 170, 170, 170, 170,   0,   0,   0,   0,   0,   0,   0,   0,\n",
       "         0,   0,   0,   0,   0, 170, 170, 170, 170, 170, 170,   0,   0,\n",
       "         0,   0,   0,   0, 170, 170, 170, 170, 170, 170,   0,   0,   0,\n",
       "         0,   0,   0,   0,   0,   0,   0,   0,   0, 170, 170, 170, 170,\n",
       "       170, 170,   0,   0,   0,   0,   0,   0,   0, 170, 170, 170, 170,\n",
       "       170,   0,   0,   0,   0,   0,   0,   0,   0,   0,   0,   0,   0,\n",
       "       170, 170, 170, 170, 170,   0,   0,   0,   0,   0,   0,   0,   0,\n",
       "         0, 170, 170, 170, 170,   0,   0,   0,   0,   0,   0,   0,   0,\n",
       "         0,   0,   0,   0, 170, 170, 170, 170, 170,   0,   0,   0,   0,\n",
       "         0,   0,   0,   0,   0, 170, 170, 170, 170,   0,   0,   0,   0,\n",
       "         0,   0,   0,   0,   0,   0,   0,   0, 170, 170, 170, 170, 170,\n",
       "         0,   0,   0,   0,   0,   0,   0,   0,   0, 170, 170, 170, 170,\n",
       "         0,   0,   0,   0,   0,   0,   0,   0,   0,   0,   0,   0, 170,\n",
       "       170, 170, 170, 170,   0,   0,   0,   0,   0,   0,   0,   0,   0,\n",
       "       170, 170, 170, 170,   0,   0,   0,   0,   0,   0,   0,   0,   0,\n",
       "         0,   0,   0, 170, 170, 170, 170, 170,   0,   0,   0,   0,   0,\n",
       "         0,   0,   0,   0, 170, 170, 170, 170,   0,   0,   0,   0,   0,\n",
       "         0,   0,   0,   0,   0,   0,   0,   0, 170, 170, 170, 170,   0,\n",
       "         0,   0,   0,   0,   0,   0,   0,   0, 170, 170, 170, 170,   0,\n",
       "         0,   0,   0,   0,   0,   0,   0,   0,   0,   0,   0,   0, 170,\n",
       "       170, 170, 170, 170,   0,   0,   0,   0,   0,   0,   0, 170, 170,\n",
       "       170, 170, 170,   0,   0,   0,   0,   0,   0,   0,   0,   0,   0,\n",
       "         0,   0,   0, 170, 170, 170, 170, 170, 170,   0,   0,   0,   0,\n",
       "         0, 170, 170, 170, 170, 170,   0,   0,   0,   0,   0,   0,   0,\n",
       "         0,   0,   0,   0,   0,   0,   0,   0, 170, 170, 170, 170, 170,\n",
       "       170,   0,   0,   0, 170, 170, 170, 170, 170, 170,   0,   0,   0,\n",
       "         0,   0,   0,   0,   0,   0,   0,   0,   0,   0,   0,   0,   0,\n",
       "       170, 170, 170, 170, 170, 170, 170, 170, 170, 170, 170, 170, 170,\n",
       "         0,   0,   0,   0,   0,   0,   0,   0,   0,   0,   0,   0,   0,\n",
       "         0,   0,   0,   0,   0, 170, 170, 170, 170, 170, 170, 170, 170,\n",
       "       170, 170, 170,   0,   0,   0,   0,   0,   0,   0,   0,   0,   0,\n",
       "         0,   0,   0,   0,   0,   0,   0,   0,   0,   0, 170, 170, 170,\n",
       "       170, 170, 170, 170, 170, 170,   0,   0,   0,   0,   0,   0,   0,\n",
       "         0,   0,   0,   0,   0,   0,   0,   0,   0,   0,   0,   0,   0,\n",
       "         0,   0,   0,   0,   0,   0,   0,   0,   0,   0,   0,   0,   0,\n",
       "         0,   0,   0,   0,   0,   0,   0,   0,   0,   0,   0,   0,   0,\n",
       "         0,   0,   0,   0,   0,   0,   0,   0,   0,   0,   0,   0,   0,\n",
       "         0,   0,   0,   0,   0,   0,   0,   0,   0,   0,   0,   0,   0,\n",
       "         0,   0,   0], dtype=uint8)"
      ]
     },
     "execution_count": 221,
     "metadata": {},
     "output_type": "execute_result"
    }
   ],
   "source": [
    "img_arr = np.array(img)\n",
    "img_arr.flatten()"
   ]
  },
  {
   "cell_type": "code",
   "execution_count": 137,
   "metadata": {},
   "outputs": [
    {
     "data": {
      "image/png": "[encoded data removed]",
      "text/plain": [
       "<PIL.Image.Image image mode=RGBA size=30x30 at 0x234958D6A58>"
      ]
     },
     "execution_count": 137,
     "metadata": {},
     "output_type": "execute_result"
    }
   ],
   "source": [
    "img1 = random.choice(img_list)\n",
    "img1"
   ]
  },
  {
   "cell_type": "code",
   "execution_count": 138,
   "metadata": {},
   "outputs": [
    {
     "data": {
      "image/png": "[encoded data removed]",
      "text/plain": [
       "<PIL.Image.Image image mode=RGBA size=30x30 at 0x234958CBC18>"
      ]
     },
     "execution_count": 138,
     "metadata": {},
     "output_type": "execute_result"
    }
   ],
   "source": [
    "img2 = random.choice(img_list)\n",
    "img2"
   ]
  },
  {
   "cell_type": "code",
   "execution_count": 139,
   "metadata": {},
   "outputs": [
    {
     "data": {
      "text/plain": [
       "5738.7421095567624"
      ]
     },
     "execution_count": 139,
     "metadata": {},
     "output_type": "execute_result"
    }
   ],
   "source": [
    "dist = np.linalg.norm(np.array(img1).flatten()-np.array(img2).flatten())\n",
    "dist"
   ]
  },
  {
   "cell_type": "code",
   "execution_count": null,
   "metadata": {},
   "outputs": [],
   "source": []
  },
  {
   "cell_type": "code",
   "execution_count": 16,
   "metadata": {},
   "outputs": [
    {
     "name": "stderr",
     "output_type": "stream",
     "text": [
      "C:\\Users\\dzkan\\Anaconda3\\lib\\site-packages\\matplotlib\\axes\\_axes.py:6462: UserWarning: The 'normed' kwarg is deprecated, and has been replaced by the 'density' kwarg.\n",
      "  warnings.warn(\"The 'normed' kwarg is deprecated, and has been \"\n"
     ]
    },
    {
     "data": {
      "image/png": "[encoded data removed]",
      "text/plain": [
       "<Figure size 432x288 with 1 Axes>"
      ]
     },
     "metadata": {},
     "output_type": "display_data"
    }
   ],
   "source": [
    "n, bins, patches = plt.hist(img_flat, bins=256, normed=1, facecolor='green', alpha=0.75) "
   ]
  },
  {
   "cell_type": "code",
   "execution_count": null,
   "metadata": {},
   "outputs": [],
   "source": [
    "image.crop((0,0,30,30))"
   ]
  }
 ],
 "metadata": {
  "kernelspec": {
   "display_name": "Python 3",
   "language": "python",
   "name": "python3"
  },
  "language_info": {
   "codemirror_mode": {
    "name": "ipython",
    "version": 3
   },
   "file_extension": ".py",
   "mimetype": "text/x-python",
   "name": "python",
   "nbconvert_exporter": "python",
   "pygments_lexer": "ipython3",
   "version": "3.6.5"
  }
 },
 "nbformat": 4,
 "nbformat_minor": 2
}
